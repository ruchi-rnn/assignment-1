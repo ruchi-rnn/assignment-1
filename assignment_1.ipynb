{
  "nbformat": 4,
  "nbformat_minor": 0,
  "metadata": {
    "colab": {
      "provenance": []
    },
    "kernelspec": {
      "name": "python3",
      "display_name": "Python 3"
    },
    "language_info": {
      "name": "python"
    }
  },
  "cells": [
    {
      "cell_type": "code",
      "execution_count": null,
      "metadata": {
        "id": "o6o2lhN5EXQG"
      },
      "outputs": [],
      "source": [
        "program to print \"Hello Python\""
      ]
    },
    {
      "cell_type": "code",
      "source": [
        "anup = \"Hello Python\"\n",
        "print(anup)"
      ],
      "metadata": {
        "colab": {
          "base_uri": "https://localhost:8080/"
        },
        "id": "vLdCEHh4E-wS",
        "outputId": "766e1368-1185-4437-ec1b-b510f172c9e4"
      },
      "execution_count": 2,
      "outputs": [
        {
          "output_type": "stream",
          "name": "stdout",
          "text": [
            "Hello Python\n"
          ]
        }
      ]
    },
    {
      "cell_type": "code",
      "source": [
        "program to do arithmetical operation addition and division"
      ],
      "metadata": {
        "id": "YFfRNBp-FMWl"
      },
      "execution_count": null,
      "outputs": []
    },
    {
      "cell_type": "code",
      "source": [
        "a = 34\n",
        "b=56\n",
        "print(a+b)"
      ],
      "metadata": {
        "colab": {
          "base_uri": "https://localhost:8080/"
        },
        "id": "Ie1m3X-AFjwE",
        "outputId": "602ed614-5c97-4b5b-9614-5291fca1f1dc"
      },
      "execution_count": 3,
      "outputs": [
        {
          "output_type": "stream",
          "name": "stdout",
          "text": [
            "90\n"
          ]
        }
      ]
    },
    {
      "cell_type": "code",
      "source": [
        "a = 56\n",
        "b = 39\n",
        "print(a % b)"
      ],
      "metadata": {
        "colab": {
          "base_uri": "https://localhost:8080/"
        },
        "id": "RFyzdnYuFsGS",
        "outputId": "c50ac6fe-ce56-4a5d-b00c-eb572821d613"
      },
      "execution_count": 5,
      "outputs": [
        {
          "output_type": "stream",
          "name": "stdout",
          "text": [
            "17\n"
          ]
        }
      ]
    },
    {
      "cell_type": "code",
      "source": [
        "print(a / b)"
      ],
      "metadata": {
        "colab": {
          "base_uri": "https://localhost:8080/"
        },
        "id": "rVSOuxE9F8Wl",
        "outputId": "189dc11b-e22f-4ff4-9ff2-4d09af6d0f36"
      },
      "execution_count": 6,
      "outputs": [
        {
          "output_type": "stream",
          "name": "stdout",
          "text": [
            "1.435897435897436\n"
          ]
        }
      ]
    },
    {
      "cell_type": "code",
      "source": [
        "print(a // b)"
      ],
      "metadata": {
        "colab": {
          "base_uri": "https://localhost:8080/"
        },
        "id": "H66wQqI4GhLe",
        "outputId": "ff0155f4-b6b8-494e-e99c-4b86ff8c2873"
      },
      "execution_count": 7,
      "outputs": [
        {
          "output_type": "stream",
          "name": "stdout",
          "text": [
            "1\n"
          ]
        }
      ]
    },
    {
      "cell_type": "code",
      "source": [
        "program to find the area of triangle"
      ],
      "metadata": {
        "id": "T8W8brt6G2fX"
      },
      "execution_count": null,
      "outputs": []
    },
    {
      "cell_type": "code",
      "source": [
        "a = int(input(\"enter the first side of triangle\"))\n",
        "b = int(input(\"enter the second side of triangle\"))\n",
        "c = int(input(\"enter the third side of triangle\"))\n",
        "p = a+b+c\n",
        "s = p/2\n",
        "area = (s*(s-a)*(s-b)*(s-c))**0.5\n",
        "print(\"area of triangle:\", area)\n",
        "print (\"perimeter of a triangle:\",p)\n",
        "print (\"semi perimeter of a triangle:\",s)"
      ],
      "metadata": {
        "colab": {
          "base_uri": "https://localhost:8080/"
        },
        "id": "BA4JU3JQG9mx",
        "outputId": "9455816f-0f9e-430c-f16b-1921a0a7448a"
      },
      "execution_count": 8,
      "outputs": [
        {
          "output_type": "stream",
          "name": "stdout",
          "text": [
            "enter the first side of triangle10\n",
            "enter the second side of triangle15\n",
            "enter the third side of triangle30\n",
            "area of triangle: (7.509157926565085e-15+122.63385543967864j)\n",
            "perimeter of a triangle: 55\n",
            "semi perimeter of a triangle: 27.5\n"
          ]
        }
      ]
    },
    {
      "cell_type": "code",
      "source": [
        "swap two variables"
      ],
      "metadata": {
        "id": "TJdzdL2KJZOD"
      },
      "execution_count": null,
      "outputs": []
    },
    {
      "cell_type": "code",
      "source": [
        "x=10\n",
        "y=20\n",
        "x,y=y,x\n",
        "print(\"x=\",x)\n",
        "print(\"y=\",y)"
      ],
      "metadata": {
        "colab": {
          "base_uri": "https://localhost:8080/"
        },
        "id": "VJNuEd4EJfjJ",
        "outputId": "8bb5f28a-9628-4c1b-b98e-fa5fa4c34ce1"
      },
      "execution_count": 10,
      "outputs": [
        {
          "output_type": "stream",
          "name": "stdout",
          "text": [
            "x= 20\n",
            "y= 10\n"
          ]
        }
      ]
    },
    {
      "cell_type": "code",
      "source": [
        "program to generate a random number"
      ],
      "metadata": {
        "id": "twgowaZpJ7iO"
      },
      "execution_count": null,
      "outputs": []
    },
    {
      "cell_type": "code",
      "source": [
        "import random\n",
        "# print a random value from a list\n",
        "list1 = [1,2,3,4,5,6,7,8,9]\n",
        "print(random.choice(list1))"
      ],
      "metadata": {
        "colab": {
          "base_uri": "https://localhost:8080/"
        },
        "id": "2hSgkt3mKBmV",
        "outputId": "7cba060b-f303-438c-eb47-a92cb405a415"
      },
      "execution_count": 13,
      "outputs": [
        {
          "output_type": "stream",
          "name": "stdout",
          "text": [
            "3\n"
          ]
        }
      ]
    }
  ]
}